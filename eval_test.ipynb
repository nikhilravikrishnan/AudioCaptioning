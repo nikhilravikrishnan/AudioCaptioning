{
 "cells": [
  {
   "cell_type": "markdown",
   "metadata": {},
   "source": [
    "# Evaluation Script Testing"
   ]
  },
  {
   "cell_type": "code",
   "execution_count": 1,
   "metadata": {},
   "outputs": [
    {
     "name": "stdout",
     "output_type": "stream",
     "text": [
      "Current sys.path settings:\n",
      "['/home/christian/GaTech/DL/MusicCaptioning', '/usr/lib/python38.zip', '/usr/lib/python3.8', '/usr/lib/python3.8/lib-dynload', '/home/christian/GaTech/DL/MusicCaptioning/venv/lib/python3.8/site-packages', '/home/christian/GaTech/DL/MusicCaptioning', '/home/christian/GaTech/DL/MusicCaptioning/models']\n",
      "Some weights of the model checkpoint at roberta-base were not used when initializing RobertaModel: ['lm_head.dense.weight', 'lm_head.decoder.weight', 'lm_head.layer_norm.bias', 'lm_head.layer_norm.weight', 'lm_head.bias', 'lm_head.dense.bias']\n",
      "- This IS expected if you are initializing RobertaModel from the checkpoint of a model trained on another task or with another architecture (e.g. initializing a BertForSequenceClassification model from a BertForPreTraining model).\n",
      "- This IS NOT expected if you are initializing RobertaModel from the checkpoint of a model that you expect to be exactly identical (initializing a BertForSequenceClassification model from a BertForSequenceClassification model).\n",
      "Using device cpu for model evaluation.\n",
      "^C\n",
      "Traceback (most recent call last):\n",
      "  File \"main.py\", line 238, in <module>\n",
      "    main()\n",
      "  File \"main.py\", line 226, in main\n",
      "    metrics = evaluate(model, mode=\"eval\")\n",
      "  File \"main.py\", line 158, in evaluate\n",
      "    metrics[\"mrr\"] = eval_model_embeddings(model, dataloader, \"MRR\")\n",
      "  File \"/home/christian/GaTech/DL/MusicCaptioning/util/utils.py\", line 33, in eval_model_embeddings\n",
      "    _, audio_encoders, text_encoders = model.forward(batch)\n",
      "  File \"/home/christian/GaTech/DL/MusicCaptioning/models/clip.py\", line 96, in forward\n",
      "    audio_features = audio_encoders.get_audio_feature_vector(self.audio_encoder, raw_audio_features[i, :, :, :], self.layer_dict)\n",
      "  File \"/home/christian/GaTech/DL/MusicCaptioning/models/audio_encoders.py\", line 34, in get_audio_feature_vector\n",
      "    out = model(img_tensors)\n",
      "  File \"/home/christian/GaTech/DL/MusicCaptioning/venv/lib/python3.8/site-packages/torch/fx/graph_module.py\", line 658, in call_wrapped\n",
      "    return self._wrapped_call(self, *args, **kwargs)\n",
      "  File \"/home/christian/GaTech/DL/MusicCaptioning/venv/lib/python3.8/site-packages/torch/fx/graph_module.py\", line 267, in __call__\n",
      "    return super(self.cls, obj).__call__(*args, **kwargs)  # type: ignore[misc]\n",
      "  File \"/home/christian/GaTech/DL/MusicCaptioning/venv/lib/python3.8/site-packages/torch/nn/modules/module.py\", line 1190, in _call_impl\n",
      "    return forward_call(*input, **kwargs)\n",
      "  File \"<eval_with_key>.44\", line 44, in forward\n",
      "  File \"/home/christian/GaTech/DL/MusicCaptioning/venv/lib/python3.8/site-packages/torch/nn/modules/module.py\", line 1190, in _call_impl\n",
      "    return forward_call(*input, **kwargs)\n",
      "  File \"/home/christian/GaTech/DL/MusicCaptioning/venv/lib/python3.8/site-packages/torch/nn/modules/conv.py\", line 463, in forward\n",
      "    return self._conv_forward(input, self.weight, self.bias)\n",
      "  File \"/home/christian/GaTech/DL/MusicCaptioning/venv/lib/python3.8/site-packages/torch/nn/modules/conv.py\", line 459, in _conv_forward\n",
      "    return F.conv2d(input, weight, bias, self.stride,\n",
      "KeyboardInterrupt\n"
     ]
    }
   ],
   "source": [
    "!python3 main.py --config \"/home/christian/GaTech/DL/MusicCaptioning/configs/resnet_eval.yaml\" --mode=\"eval\""
   ]
  },
  {
   "cell_type": "code",
   "execution_count": null,
   "metadata": {},
   "outputs": [],
   "source": []
  }
 ],
 "metadata": {
  "kernelspec": {
   "display_name": "Python 3 (ipykernel)",
   "language": "python",
   "name": "python3"
  },
  "language_info": {
   "codemirror_mode": {
    "name": "ipython",
    "version": 3
   },
   "file_extension": ".py",
   "mimetype": "text/x-python",
   "name": "python",
   "nbconvert_exporter": "python",
   "pygments_lexer": "ipython3",
   "version": "3.8.10"
  },
  "orig_nbformat": 4,
  "vscode": {
   "interpreter": {
    "hash": "4680f382825ea977b84f25ecbf33b78e5963db3eebe4fffb9a6d3d97e2e0a765"
   }
  }
 },
 "nbformat": 4,
 "nbformat_minor": 2
}
